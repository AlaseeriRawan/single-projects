{
  "nbformat": 4,
  "nbformat_minor": 0,
  "metadata": {
    "colab": {
      "provenance": [],
      "authorship_tag": "ABX9TyMxF6PJwe04xjX7sEUhmQRh",
      "include_colab_link": true
    },
    "kernelspec": {
      "name": "python3",
      "display_name": "Python 3"
    },
    "language_info": {
      "name": "python"
    }
  },
  "cells": [
    {
      "cell_type": "markdown",
      "metadata": {
        "id": "view-in-github",
        "colab_type": "text"
      },
      "source": [
        "<a href=\"https://colab.research.google.com/github/AlaseeriRawan/single-projects/blob/main/Automated_Gene_Curation_Websites.ipynb\" target=\"_parent\"><img src=\"https://colab.research.google.com/assets/colab-badge.svg\" alt=\"Open In Colab\"/></a>"
      ]
    },
    {
      "cell_type": "code",
      "execution_count": null,
      "metadata": {
        "id": "uUm85fnt5LRr"
      },
      "outputs": [],
      "source": [
        "\n",
        "MedlinePlusG = 'https://medlineplus.gov/genetics/gene/' # gene needs to be in lowercase\n",
        "GeneReviews = 'https://www.ncbi.nlm.nih.gov/books/NBK1116/?term=' # space key : + # should be included in both gene and disease lists\n",
        "ClinVar = 'https://www.ncbi.nlm.nih.gov/clinvar/?term='\n",
        "gnomAD = 'https://gnomad.broadinstitute.org/gene/'\n",
        "OMIMG = 'https://www.omim.org/search?index=entry&start=1&limit=10&sort=score+desc%2C+prefix_sort+desc&search='\n",
        "ClinGen = 'https://search.clinicalgenome.org/kb/genes?page=1&size=50&search='\n",
        "\n",
        "Gene_Curation = [MedlinePlusG, GeneReviews, ClinVar, gnomAD, OMIMG, ClinGen] #this will be my list of websites\n",
        "\n",
        "MedlinePlusD = 'https://medlineplus.gov/genetics/condition/' # space key : -\n",
        "OrphanetD = 'https://www.orpha.net/consor/cgi-bin/Disease_Search_Simple.php?lng=EN&diseaseGroup=' #space key : +\n",
        "OMIMD = 'https://www.omim.org/search?index=entry&start=1&limit=10&sort=score+desc%2C+prefix_sort+desc&search=' # space key : +\n",
        "\n",
        "Disease_Curation1 = [OrphanetD, GeneReviews, OMIMD]\n",
        "Disease_Curation2 = [MedlinePlusD]\n",
        "Disease_Curation = [Disease_Curation1, Disease_Curation2]\n",
        "\n",
        "Carrier_f = 'https://www.perinatology.com/calculators/Hardy-Weinberg.htm'\n",
        "GeneCC = 'https://search.thegencc.org/genes'\n",
        "\n",
        "without_search = [Carrier_f, GeneCC]"
      ]
    },
    {
      "cell_type": "code",
      "source": [
        "gene = input('Enter gene code:')\n",
        "print(gene)"
      ],
      "metadata": {
        "id": "kumaDWpD0UBn",
        "colab": {
          "base_uri": "https://localhost:8080/"
        },
        "outputId": "b53e9d77-0132-440c-9239-0432759896b3"
      },
      "execution_count": null,
      "outputs": [
        {
          "output_type": "stream",
          "name": "stdout",
          "text": [
            "Enter gene code:abcd1\n",
            "abcd1\n"
          ]
        }
      ]
    },
    {
      "cell_type": "code",
      "source": [
        "CurationURL_gene_list = [string + \"\" + gene for string in Gene_Curation]"
      ],
      "metadata": {
        "id": "PYPjUHOh1AhD"
      },
      "execution_count": null,
      "outputs": []
    },
    {
      "cell_type": "code",
      "source": [
        "disease = input('Enter disease name, make sure to add + sign instead of a space:')\n",
        "print(disease)"
      ],
      "metadata": {
        "id": "w0glkhrBIlud",
        "colab": {
          "base_uri": "https://localhost:8080/"
        },
        "outputId": "0f78a956-f79d-45ac-fbf5-cfecd19786cf"
      },
      "execution_count": 1,
      "outputs": [
        {
          "output_type": "stream",
          "name": "stdout",
          "text": [
            "Enter disease name, make sure to add + sign instead of a space:example\n",
            "example\n"
          ]
        }
      ]
    },
    {
      "cell_type": "code",
      "source": [
        "disease1 = disease.replace(' ', '+')\n",
        "disease2 = disease.replace(' ', '-')"
      ],
      "metadata": {
        "id": "TzEEtDNDLhGe"
      },
      "execution_count": null,
      "outputs": []
    },
    {
      "cell_type": "code",
      "source": [
        "CurationURL_disease_list1 = [string + \"\" + disease1 for string in Disease_Curation1]\n",
        "print(CurationURL_disease_list1)"
      ],
      "metadata": {
        "id": "ZXBDU3rDNwOl"
      },
      "execution_count": null,
      "outputs": []
    },
    {
      "cell_type": "code",
      "source": [
        "CurationURL_disease_list2 = [string + \"\" + disease2 for string in Disease_Curation2]\n",
        "print(CurationURL_disease_list2)"
      ],
      "metadata": {
        "id": "fnSTr_jYOogr"
      },
      "execution_count": null,
      "outputs": []
    },
    {
      "cell_type": "code",
      "source": [
        "CurationURL_disease_list = CurationURL_disease_list2 + CurationURL_disease_list1\n",
        "print(CurationURL_disease_list)"
      ],
      "metadata": {
        "id": "_bbQctIXOw_q"
      },
      "execution_count": null,
      "outputs": []
    },
    {
      "cell_type": "code",
      "source": [
        "from IPython.display import Javascript, display\n",
        "\n",
        "def open_web(url_list):\n",
        "    for url in url_list:\n",
        "        display(Javascript('window.open(\"{url}\");'.format(url=url)))\n",
        "\n",
        "# List of URLs to open\n",
        "urls = CurationURL_gene_list + without_search + CurationURL_disease_list"
      ],
      "metadata": {
        "id": "D6gA2oJuGgaY"
      },
      "execution_count": null,
      "outputs": []
    },
    {
      "cell_type": "code",
      "source": [
        "open_web(urls)"
      ],
      "metadata": {
        "colab": {
          "base_uri": "https://localhost:8080/",
          "height": 17
        },
        "id": "xOnVI5NzQcXZ",
        "outputId": "a9443e2c-b52d-4ce7-c3a0-b1156c81df07"
      },
      "execution_count": null,
      "outputs": [
        {
          "output_type": "display_data",
          "data": {
            "text/plain": [
              "<IPython.core.display.Javascript object>"
            ],
            "application/javascript": [
              "window.open(\"https://medlineplus.gov/genetics/gene/erbb4\");"
            ]
          },
          "metadata": {}
        },
        {
          "output_type": "display_data",
          "data": {
            "text/plain": [
              "<IPython.core.display.Javascript object>"
            ],
            "application/javascript": [
              "window.open(\"https://www.ncbi.nlm.nih.gov/books/NBK1116/?term=erbb4\");"
            ]
          },
          "metadata": {}
        },
        {
          "output_type": "display_data",
          "data": {
            "text/plain": [
              "<IPython.core.display.Javascript object>"
            ],
            "application/javascript": [
              "window.open(\"https://www.ncbi.nlm.nih.gov/clinvar/?term=erbb4\");"
            ]
          },
          "metadata": {}
        },
        {
          "output_type": "display_data",
          "data": {
            "text/plain": [
              "<IPython.core.display.Javascript object>"
            ],
            "application/javascript": [
              "window.open(\"https://gnomad.broadinstitute.org/gene/erbb4\");"
            ]
          },
          "metadata": {}
        },
        {
          "output_type": "display_data",
          "data": {
            "text/plain": [
              "<IPython.core.display.Javascript object>"
            ],
            "application/javascript": [
              "window.open(\"https://www.omim.org/search?index=entry&start=1&limit=10&sort=score+desc%2C+prefix_sort+desc&search=erbb4\");"
            ]
          },
          "metadata": {}
        },
        {
          "output_type": "display_data",
          "data": {
            "text/plain": [
              "<IPython.core.display.Javascript object>"
            ],
            "application/javascript": [
              "window.open(\"https://search.clinicalgenome.org/kb/genes?page=1&size=50&search=erbb4\");"
            ]
          },
          "metadata": {}
        },
        {
          "output_type": "display_data",
          "data": {
            "text/plain": [
              "<IPython.core.display.Javascript object>"
            ],
            "application/javascript": [
              "window.open(\"https://www.perinatology.com/calculators/Hardy-Weinberg.htm\");"
            ]
          },
          "metadata": {}
        },
        {
          "output_type": "display_data",
          "data": {
            "text/plain": [
              "<IPython.core.display.Javascript object>"
            ],
            "application/javascript": [
              "window.open(\"https://search.thegencc.org/genes\");"
            ]
          },
          "metadata": {}
        },
        {
          "output_type": "display_data",
          "data": {
            "text/plain": [
              "<IPython.core.display.Javascript object>"
            ],
            "application/javascript": [
              "window.open(\"https://medlineplus.gov/genetics/condition/breast-cancer\");"
            ]
          },
          "metadata": {}
        },
        {
          "output_type": "display_data",
          "data": {
            "text/plain": [
              "<IPython.core.display.Javascript object>"
            ],
            "application/javascript": [
              "window.open(\"https://www.orpha.net/consor/cgi-bin/Disease_Search_Simple.php?lng=EN&diseaseGroup=breast+cancer\");"
            ]
          },
          "metadata": {}
        },
        {
          "output_type": "display_data",
          "data": {
            "text/plain": [
              "<IPython.core.display.Javascript object>"
            ],
            "application/javascript": [
              "window.open(\"https://www.ncbi.nlm.nih.gov/books/NBK1116/?term=breast+cancer\");"
            ]
          },
          "metadata": {}
        },
        {
          "output_type": "display_data",
          "data": {
            "text/plain": [
              "<IPython.core.display.Javascript object>"
            ],
            "application/javascript": [
              "window.open(\"https://www.omim.org/search?index=entry&start=1&limit=10&sort=score+desc%2C+prefix_sort+desc&search=breast+cancer\");"
            ]
          },
          "metadata": {}
        }
      ]
    }
  ]
}